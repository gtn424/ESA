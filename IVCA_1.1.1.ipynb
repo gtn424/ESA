{
 "cells": [
  {
   "cell_type": "markdown",
   "id": "ea76c4f7-7ac4-4a16-a062-3738c4261e7d",
   "metadata": {},
   "source": [
    "インポート"
   ]
  },
  {
   "cell_type": "code",
   "execution_count": 1,
   "id": "13df73be-2bd8-4d0a-9117-73a4659ef7eb",
   "metadata": {},
   "outputs": [],
   "source": [
    "from pyknp import Juman\n",
    "from pyknp import KNP\n",
    "import pandas as pd"
   ]
  },
  {
   "cell_type": "markdown",
   "id": "302067ef-76aa-427c-9b60-ba18e06e7d92",
   "metadata": {},
   "source": [
    "文，KNP用意"
   ]
  },
  {
   "cell_type": "code",
   "execution_count": 2,
   "id": "f7e297e5-a6f9-4c49-8bb8-0ac352e5e5c2",
   "metadata": {},
   "outputs": [],
   "source": [
    "sentence = \"\"\n",
    "knp = KNP()"
   ]
  },
  {
   "cell_type": "code",
   "execution_count": 3,
   "id": "918b7ecd-3de4-44a0-9ce9-c81fc0df2daf",
   "metadata": {},
   "outputs": [],
   "source": [
    "file_data = pd.read_csv(\"kakaku_data.csv\", header=None)"
   ]
  },
  {
   "cell_type": "code",
   "execution_count": 4,
   "id": "a3f7835e-874c-4e2c-9759-c3662afe5573",
   "metadata": {
    "tags": []
   },
   "outputs": [
    {
     "data": {
      "text/html": [
       "<div>\n",
       "<style scoped>\n",
       "    .dataframe tbody tr th:only-of-type {\n",
       "        vertical-align: middle;\n",
       "    }\n",
       "\n",
       "    .dataframe tbody tr th {\n",
       "        vertical-align: top;\n",
       "    }\n",
       "\n",
       "    .dataframe thead th {\n",
       "        text-align: right;\n",
       "    }\n",
       "</style>\n",
       "<table border=\"1\" class=\"dataframe\">\n",
       "  <thead>\n",
       "    <tr style=\"text-align: right;\">\n",
       "      <th></th>\n",
       "      <th>0</th>\n",
       "      <th>1</th>\n",
       "      <th>2</th>\n",
       "    </tr>\n",
       "  </thead>\n",
       "  <tbody>\n",
       "    <tr>\n",
       "      <th>0</th>\n",
       "      <td>NaN</td>\n",
       "      <td>Unnamed: 0</td>\n",
       "      <td>0</td>\n",
       "    </tr>\n",
       "    <tr>\n",
       "      <th>1</th>\n",
       "      <td>0.0</td>\n",
       "      <td>0</td>\n",
       "      <td>固めですかね…私は全く気になりませんでした。</td>\n",
       "    </tr>\n",
       "    <tr>\n",
       "      <th>2</th>\n",
       "      <td>1.0</td>\n",
       "      <td>1</td>\n",
       "      <td>モーター走行時はとても静かです。エンジン始動するととても賑やかになります。</td>\n",
       "    </tr>\n",
       "    <tr>\n",
       "      <th>3</th>\n",
       "      <td>2.0</td>\n",
       "      <td>2</td>\n",
       "      <td>スポーティーさにステータスを振ってるからか、前記したように燃費にステータス振ってるからか、足...</td>\n",
       "    </tr>\n",
       "    <tr>\n",
       "      <th>4</th>\n",
       "      <td>3.0</td>\n",
       "      <td>3</td>\n",
       "      <td>低速域は良い感じだけど高速域はもっと安定感が欲しい</td>\n",
       "    </tr>\n",
       "    <tr>\n",
       "      <th>...</th>\n",
       "      <td>...</td>\n",
       "      <td>...</td>\n",
       "      <td>...</td>\n",
       "    </tr>\n",
       "    <tr>\n",
       "      <th>54405</th>\n",
       "      <td>54404.0</td>\n",
       "      <td>54404</td>\n",
       "      <td>アイドリングストップオフで何も考えず乗ってリッター平均15キロくらい。</td>\n",
       "    </tr>\n",
       "    <tr>\n",
       "      <th>54406</th>\n",
       "      <td>54405.0</td>\n",
       "      <td>54405</td>\n",
       "      <td>納車翌日に高速使って出掛けました。17.3という計算になりましたが、普段は街乗りなので前回の...</td>\n",
       "    </tr>\n",
       "    <tr>\n",
       "      <th>54407</th>\n",
       "      <td>54406.0</td>\n",
       "      <td>54406</td>\n",
       "      <td>高速道路等、一定距離を流すには良さそうだが、渋滞やストップアンドゴーが多い街中や買い物と言っ...</td>\n",
       "    </tr>\n",
       "    <tr>\n",
       "      <th>54408</th>\n",
       "      <td>54407.0</td>\n",
       "      <td>54407</td>\n",
       "      <td>不明</td>\n",
       "    </tr>\n",
       "    <tr>\n",
       "      <th>54409</th>\n",
       "      <td>54408.0</td>\n",
       "      <td>54408</td>\n",
       "      <td>納車当日のため不明</td>\n",
       "    </tr>\n",
       "  </tbody>\n",
       "</table>\n",
       "<p>54410 rows × 3 columns</p>\n",
       "</div>"
      ],
      "text/plain": [
       "             0           1                                                  2\n",
       "0          NaN  Unnamed: 0                                                  0\n",
       "1          0.0           0                             固めですかね…私は全く気になりませんでした。\n",
       "2          1.0           1              モーター走行時はとても静かです。エンジン始動するととても賑やかになります。\n",
       "3          2.0           2  スポーティーさにステータスを振ってるからか、前記したように燃費にステータス振ってるからか、足...\n",
       "4          3.0           3                          低速域は良い感じだけど高速域はもっと安定感が欲しい\n",
       "...        ...         ...                                                ...\n",
       "54405  54404.0       54404                アイドリングストップオフで何も考えず乗ってリッター平均15キロくらい。\n",
       "54406  54405.0       54405  納車翌日に高速使って出掛けました。17.3という計算になりましたが、普段は街乗りなので前回の...\n",
       "54407  54406.0       54406  高速道路等、一定距離を流すには良さそうだが、渋滞やストップアンドゴーが多い街中や買い物と言っ...\n",
       "54408  54407.0       54407                                                 不明\n",
       "54409  54408.0       54408                                          納車当日のため不明\n",
       "\n",
       "[54410 rows x 3 columns]"
      ]
     },
     "execution_count": 4,
     "metadata": {},
     "output_type": "execute_result"
    }
   ],
   "source": [
    "file_data"
   ]
  },
  {
   "cell_type": "code",
   "execution_count": 5,
   "id": "757c3eb6-2102-4f20-9c02-12a28bfc0a06",
   "metadata": {},
   "outputs": [
    {
     "data": {
      "text/html": [
       "<div>\n",
       "<style scoped>\n",
       "    .dataframe tbody tr th:only-of-type {\n",
       "        vertical-align: middle;\n",
       "    }\n",
       "\n",
       "    .dataframe tbody tr th {\n",
       "        vertical-align: top;\n",
       "    }\n",
       "\n",
       "    .dataframe thead th {\n",
       "        text-align: right;\n",
       "    }\n",
       "</style>\n",
       "<table border=\"1\" class=\"dataframe\">\n",
       "  <thead>\n",
       "    <tr style=\"text-align: right;\">\n",
       "      <th></th>\n",
       "      <th>2</th>\n",
       "    </tr>\n",
       "  </thead>\n",
       "  <tbody>\n",
       "    <tr>\n",
       "      <th>1</th>\n",
       "      <td>固めですかね…私は全く気になりませんでした。</td>\n",
       "    </tr>\n",
       "    <tr>\n",
       "      <th>2</th>\n",
       "      <td>モーター走行時はとても静かです。エンジン始動するととても賑やかになります。</td>\n",
       "    </tr>\n",
       "    <tr>\n",
       "      <th>3</th>\n",
       "      <td>スポーティーさにステータスを振ってるからか、前記したように燃費にステータス振ってるからか、足...</td>\n",
       "    </tr>\n",
       "    <tr>\n",
       "      <th>4</th>\n",
       "      <td>低速域は良い感じだけど高速域はもっと安定感が欲しい</td>\n",
       "    </tr>\n",
       "    <tr>\n",
       "      <th>5</th>\n",
       "      <td>良いはずがありません。突き上げられながら揺られながら走ることになります。</td>\n",
       "    </tr>\n",
       "    <tr>\n",
       "      <th>...</th>\n",
       "      <td>...</td>\n",
       "    </tr>\n",
       "    <tr>\n",
       "      <th>54405</th>\n",
       "      <td>アイドリングストップオフで何も考えず乗ってリッター平均15キロくらい。</td>\n",
       "    </tr>\n",
       "    <tr>\n",
       "      <th>54406</th>\n",
       "      <td>納車翌日に高速使って出掛けました。17.3という計算になりましたが、普段は街乗りなので前回の...</td>\n",
       "    </tr>\n",
       "    <tr>\n",
       "      <th>54407</th>\n",
       "      <td>高速道路等、一定距離を流すには良さそうだが、渋滞やストップアンドゴーが多い街中や買い物と言っ...</td>\n",
       "    </tr>\n",
       "    <tr>\n",
       "      <th>54408</th>\n",
       "      <td>不明</td>\n",
       "    </tr>\n",
       "    <tr>\n",
       "      <th>54409</th>\n",
       "      <td>納車当日のため不明</td>\n",
       "    </tr>\n",
       "  </tbody>\n",
       "</table>\n",
       "<p>54409 rows × 1 columns</p>\n",
       "</div>"
      ],
      "text/plain": [
       "                                                       2\n",
       "1                                 固めですかね…私は全く気になりませんでした。\n",
       "2                  モーター走行時はとても静かです。エンジン始動するととても賑やかになります。\n",
       "3      スポーティーさにステータスを振ってるからか、前記したように燃費にステータス振ってるからか、足...\n",
       "4                              低速域は良い感じだけど高速域はもっと安定感が欲しい\n",
       "5                   良いはずがありません。突き上げられながら揺られながら走ることになります。\n",
       "...                                                  ...\n",
       "54405                アイドリングストップオフで何も考えず乗ってリッター平均15キロくらい。\n",
       "54406  納車翌日に高速使って出掛けました。17.3という計算になりましたが、普段は街乗りなので前回の...\n",
       "54407  高速道路等、一定距離を流すには良さそうだが、渋滞やストップアンドゴーが多い街中や買い物と言っ...\n",
       "54408                                                 不明\n",
       "54409                                          納車当日のため不明\n",
       "\n",
       "[54409 rows x 1 columns]"
      ]
     },
     "execution_count": 5,
     "metadata": {},
     "output_type": "execute_result"
    }
   ],
   "source": [
    "file_data = file_data.drop([0,1], axis=1)\n",
    "file_data = file_data.drop(0, axis=0)\n",
    "file_data"
   ]
  },
  {
   "cell_type": "code",
   "execution_count": 105,
   "id": "5f3ecdc5-4e94-4286-bffd-afb2b6007106",
   "metadata": {},
   "outputs": [
    {
     "data": {
      "text/html": [
       "<div>\n",
       "<style scoped>\n",
       "    .dataframe tbody tr th:only-of-type {\n",
       "        vertical-align: middle;\n",
       "    }\n",
       "\n",
       "    .dataframe tbody tr th {\n",
       "        vertical-align: top;\n",
       "    }\n",
       "\n",
       "    .dataframe thead th {\n",
       "        text-align: right;\n",
       "    }\n",
       "</style>\n",
       "<table border=\"1\" class=\"dataframe\">\n",
       "  <thead>\n",
       "    <tr style=\"text-align: right;\">\n",
       "      <th></th>\n",
       "      <th>2</th>\n",
       "    </tr>\n",
       "  </thead>\n",
       "  <tbody>\n",
       "    <tr>\n",
       "      <th>1</th>\n",
       "      <td>固めですかね…私は全く気になりませんでした。</td>\n",
       "    </tr>\n",
       "    <tr>\n",
       "      <th>2</th>\n",
       "      <td>モーター走行時はとても静かです。エンジン始動するととても賑やかになります。</td>\n",
       "    </tr>\n",
       "    <tr>\n",
       "      <th>3</th>\n",
       "      <td>スポーティーさにステータスを振ってるからか、前記したように燃費にステータス振ってるからか、足...</td>\n",
       "    </tr>\n",
       "    <tr>\n",
       "      <th>4</th>\n",
       "      <td>低速域は良い感じだけど高速域はもっと安定感が欲しい</td>\n",
       "    </tr>\n",
       "    <tr>\n",
       "      <th>5</th>\n",
       "      <td>良いはずがありません。突き上げられながら揺られながら走ることになります。</td>\n",
       "    </tr>\n",
       "    <tr>\n",
       "      <th>...</th>\n",
       "      <td>...</td>\n",
       "    </tr>\n",
       "    <tr>\n",
       "      <th>54405</th>\n",
       "      <td>アイドリングストップオフで何も考えず乗ってリッター平均15キロくらい。</td>\n",
       "    </tr>\n",
       "    <tr>\n",
       "      <th>54406</th>\n",
       "      <td>納車翌日に高速使って出掛けました。17.3という計算になりましたが、普段は街乗りなので前回の...</td>\n",
       "    </tr>\n",
       "    <tr>\n",
       "      <th>54407</th>\n",
       "      <td>高速道路等、一定距離を流すには良さそうだが、渋滞やストップアンドゴーが多い街中や買い物と言っ...</td>\n",
       "    </tr>\n",
       "    <tr>\n",
       "      <th>54408</th>\n",
       "      <td>不明</td>\n",
       "    </tr>\n",
       "    <tr>\n",
       "      <th>54409</th>\n",
       "      <td>納車当日のため不明</td>\n",
       "    </tr>\n",
       "  </tbody>\n",
       "</table>\n",
       "<p>54409 rows × 1 columns</p>\n",
       "</div>"
      ],
      "text/plain": [
       "                                                       2\n",
       "1                                 固めですかね…私は全く気になりませんでした。\n",
       "2                  モーター走行時はとても静かです。エンジン始動するととても賑やかになります。\n",
       "3      スポーティーさにステータスを振ってるからか、前記したように燃費にステータス振ってるからか、足...\n",
       "4                              低速域は良い感じだけど高速域はもっと安定感が欲しい\n",
       "5                   良いはずがありません。突き上げられながら揺られながら走ることになります。\n",
       "...                                                  ...\n",
       "54405                アイドリングストップオフで何も考えず乗ってリッター平均15キロくらい。\n",
       "54406  納車翌日に高速使って出掛けました。17.3という計算になりましたが、普段は街乗りなので前回の...\n",
       "54407  高速道路等、一定距離を流すには良さそうだが、渋滞やストップアンドゴーが多い街中や買い物と言っ...\n",
       "54408                                                 不明\n",
       "54409                                          納車当日のため不明\n",
       "\n",
       "[54409 rows x 1 columns]"
      ]
     },
     "execution_count": 105,
     "metadata": {},
     "output_type": "execute_result"
    }
   ],
   "source": [
    "file_data"
   ]
  },
  {
   "cell_type": "code",
   "execution_count": 6,
   "id": "d802b704-4b78-48e6-845b-4eeaa200fae7",
   "metadata": {},
   "outputs": [],
   "source": [
    "esa_result = []\n",
    "para = False"
   ]
  },
  {
   "cell_type": "markdown",
   "id": "1da2f64a-ea1d-4a66-9fd8-a2f0a98881b9",
   "metadata": {},
   "source": [
    "述語項構造&構文木"
   ]
  },
  {
   "cell_type": "code",
   "execution_count": 7,
   "id": "5bb69ea4-9642-4e49-8edf-69767225a58c",
   "metadata": {},
   "outputs": [],
   "source": [
    "class evaluation_structure_automatic_construction():\n",
    "    def __init__(self,sentence):\n",
    "        self.setsu_n, self.setsu_b, self.setsu_f = 0, 0, 0 #節区切の番号\n",
    "        self.setsu_del_b, self.setsu_del_f, self.setsu_del_n = 0, 0, 0 #クエリ削除の番号\n",
    "        self.setsu_temp = \"\"\n",
    "        self.result = knp.parse(sentence)\n",
    "        self.setsu_flg = True\n",
    "        self.setsu_list = list()\n",
    "        self.setsu_del = list()\n",
    "    \n",
    "    def danwa_setsu_set(self,sentence, flag):\n",
    "        self.setsu_b = self.result.get_tag_span(self.setsu_n)[0] #節位置の先頭\n",
    "        self.setsu_f = self.result.get_tag_span(tag.tag_id)[1] #節位置の末端\n",
    "        # print(\"節\",self.setsu_b,self.setsu_f)\n",
    "        # print(flag, self.setsu_f - self.setsu_b)\n",
    "        if flag == False & (self.setsu_f - self.setsu_b > 4):\n",
    "            # print(\"check\")\n",
    "            for i in range(self.setsu_b,self.setsu_f + 1): \n",
    "                for j in range(len(self.setsu_del)):\n",
    "                    if(i == self.setsu_del[j]):\n",
    "                        # print(\"check1\")\n",
    "                        self.setsu_flg = False\n",
    "                        break\n",
    "\n",
    "                if self.setsu_flg == True:\n",
    "                    # print(\"check2\")\n",
    "                    self.setsu_temp += sentence[i] #節に格納\n",
    "                self.setsu_flg = True\n",
    "                \n",
    "            self.setsu_list.insert(0, self.setsu_temp) #節リストに格納\n",
    "            # print(\"\\n\",self.setsu_temp,\"\\n\")\n",
    "            self.setsu_temp = \"\"\n",
    "                \n",
    "        if flag == True:\n",
    "            # print(\"並列処理\")\n",
    "            for i in range(self.setsu_b,self.setsu_f + 1): \n",
    "                for j in range(len(self.setsu_del)):\n",
    "                    if(i == self.setsu_del[j]):\n",
    "                        # print(\"check3\")\n",
    "                        self.setsu_flg = False\n",
    "                        break\n",
    "\n",
    "                if self.setsu_flg == True:\n",
    "                    # print(\"check4\")\n",
    "                    self.setsu_temp += sentence[i] #節に格納\n",
    "                self.setsu_flg = True\n",
    "\n",
    "            self.setsu_list.insert(0, self.setsu_temp) #節リストに格納\n",
    "            # print(\"\\n\",self.setsu_temp,\"\\n\")\n",
    "            self.setsu_temp = \"\"\n",
    "        \n",
    "        \n",
    "    "
   ]
  },
  {
   "cell_type": "code",
   "execution_count": 108,
   "id": "746255aa-01c5-4514-9098-8b71c73680b7",
   "metadata": {},
   "outputs": [
    {
     "data": {
      "text/plain": [
       "'モーター走行時はとても静かです。エンジン始動するととても賑やかになります。'"
      ]
     },
     "execution_count": 108,
     "metadata": {},
     "output_type": "execute_result"
    }
   ],
   "source": [
    "file_data[2][2]"
   ]
  },
  {
   "cell_type": "code",
   "execution_count": null,
   "id": "00e7abeb-3a4b-47f1-bf11-510d18ef9f36",
   "metadata": {
    "tags": []
   },
   "outputs": [
    {
     "name": "stderr",
     "output_type": "stream",
     "text": [
      ";; Invalid input (4 items)<\\ B \\ B \\ B 未定義語 15 その他 1 * 0 * 0 \"品詞推定:名詞\"\n",
      "> !\n",
      ";; Too many mrph ( \u0004\u0004...)!\n",
      ";; Invalid input <+ + + 未定義語 15 その他 1 * 0 * 0 \"品詞推定:名詞\"\n",
      "> !\n",
      "Exception ignored in: <function Subprocess.__del__ at 0x7f7ac4161b70>\n",
      "Traceback (most recent call last):\n",
      "  File \"/usr/local/lib/python3.7/site-packages/pyknp/utils/process.py\", line 55, in __del__\n",
      "    self.process.stdin.close()\n",
      "BrokenPipeError: [Errno 32] Broken pipe\n",
      "Exception ignored in: <function Subprocess.__del__ at 0x7f7ac4161b70>\n",
      "Traceback (most recent call last):\n",
      "  File \"/usr/local/lib/python3.7/site-packages/pyknp/utils/process.py\", line 55, in __del__\n",
      "    self.process.stdin.close()\n",
      "BrokenPipeError: [Errno 32] Broken pipe\n",
      ";; Too many mrph ( \u0004\u0004...)!\n",
      ";; Invalid input (4 items)<\\ d \\ d \\ d 未定義語 15 その他 1 * 0 * 0 \"品詞推定:名詞\"\n",
      "> !\n",
      ";; Too many mrph ( \u0004\u0004...)!\n"
     ]
    }
   ],
   "source": [
    "# ファイルの内容を一行ずつ読み込む\n",
    "for i in range(200):\n",
    "    sentence = file_data[2][i+1]\n",
    "    # print(sentence)\n",
    "\n",
    "    setsu = evaluation_structure_automatic_construction(sentence)\n",
    "    temp = 0\n",
    "    para = False\n",
    "    for tag in setsu.result.tag_list(): # 各基本句へのアクセス\n",
    "        # print(\"\\tID:%d, 見出し:%s, 係り受けタイプ:%s, 親基本句ID:%d, 素性:%s\" \\\n",
    "        #         % (tag.tag_id, \"\".join(mrph.midasi for mrph in tag.mrph_list()), tag.dpndtype, tag.parent_id, tag.fstring)) \n",
    "\n",
    "        if '節-区切' in tag.fstring or '節-機能-原因・理由' in tag.fstring or '節-機能疑-原因・理由' in tag.fstring or 'ID:〜によって' in tag.fstring: #第1段階\n",
    "            if not '連体修飾' in tag.fstring and not '主題表現' in tag.fstring: \n",
    "                # print(tag.tag_id)\n",
    "                temp = tag.tag_id\n",
    "                para = False\n",
    "                setsu.danwa_setsu_set(sentence, para)\n",
    "                setsu.setsu_n = tag.tag_id + 1\n",
    "\n",
    "        elif ('<解析連格:外の関係>' in tag.fstring or '<外の関係>' in tag.fstring) and '<連用要素>' in tag.fstring: #第2段階\n",
    "            # print(\"Temp\" ,tag.tag_id - temp)\n",
    "            if tag.tag_id - temp > 2: \n",
    "                para = False\n",
    "                setsu.danwa_setsu_set(sentence, para)\n",
    "                setsu.setsu_n = tag.tag_id + 1\n",
    "\n",
    "        elif '並列タイプ:AND' in tag.fstring and not '<連用要素>' in tag.fstring:\n",
    "            # print(\"Temp\" ,tag.tag_id - temp)\n",
    "            if tag.tag_id - temp > 2:\n",
    "                para = True\n",
    "                setsu.danwa_setsu_set(sentence, para)\n",
    "                setsu.setsu_n = tag.tag_id + 1\n",
    "\n",
    "    \n",
    "    esa_result.append([sentence])\n",
    "    esa_result.append([\" ― \".join(setsu.setsu_list)])\n",
    "    # print(\" ― \".join(setsu.setsu_list))"
   ]
  },
  {
   "cell_type": "code",
   "execution_count": null,
   "id": "941270d1-898f-425e-b6e9-30c9f5a89fab",
   "metadata": {
    "tags": []
   },
   "outputs": [],
   "source": [
    "esa_result = pd.DataFrame(esa_result)\n",
    "esa_result"
   ]
  },
  {
   "cell_type": "code",
   "execution_count": null,
   "id": "86ab994a-b3b2-4a65-9691-d1f066cd0084",
   "metadata": {
    "tags": []
   },
   "outputs": [],
   "source": [
    "esa_result.to_csv(\"result_04062015_200data.csv\")"
   ]
  },
  {
   "cell_type": "code",
   "execution_count": 9,
   "id": "e9684b45-bbd0-40c7-b5c4-58ebb6a8a877",
   "metadata": {
    "tags": []
   },
   "outputs": [
    {
     "name": "stdout",
     "output_type": "stream",
     "text": [
      "これは静粛性・剛性感など圧倒的にアクアが上です。FIT3はハイブリッドなのにお世辞にも静かとは言えません。ハッキリと「今エンジンが掛かった・止まった」は分かりますし、その音や振動はあまり心地の良いものではありません。アクアは走行中はエンジンが掛かっていてもよく分からないことが多いですし、他人事みたいな音しかしません。あと、FIT3のi-DCDはとくに低速ではかなりギクシャクします。アクセルの踏み方は一定なのに、制御の都合で加速感が急に変わったりするので非常に乗りづらいです。アクアに乗り換えた時、その滑らかさには感動しました。また、乗り心地から話は逸れますが、FIT3は制御の優先順位付けが甘いようで、真夏や真冬にエアコンが全開になる場面で渋滞など低負荷走行が続くと、エンジンが掛かっていても充電しなくなることがあり、高電圧バッテリーを使い果たして動けなくなります。現行のFIT3でも同じ現象が発生します。パワーシステムの電源を入れなおすと慌てて充電を始めるのでたぶんハイブリッドシステムのバグです。私はこの現象のせいで2回ほど止まって動かなくなったので、恐ろしくなり買い替えを決断しました。\n",
      "['']\n",
      "\n",
      "\n"
     ]
    },
    {
     "name": "stderr",
     "output_type": "stream",
     "text": [
      ";; Too many mrph ( \u0004\u0004...)!\n"
     ]
    }
   ],
   "source": [
    "sentence = \"これは静粛性・剛性感など圧倒的にアクアが上です。FIT3はハイブリッドなのにお世辞にも静かとは言えません。ハッキリと「今エンジンが掛かった・止まった」は分かりますし、その音や振動はあまり心地の良いものではありません。アクアは走行中はエンジンが掛かっていてもよく分からないことが多いですし、他人事みたいな音しかしません。あと、FIT3のi-DCDはとくに低速ではかなりギクシャクします。アクセルの踏み方は一定なのに、制御の都合で加速感が急に変わったりするので非常に乗りづらいです。アクアに乗り換えた時、その滑らかさには感動しました。また、乗り心地から話は逸れますが、FIT3は制御の優先順位付けが甘いようで、真夏や真冬にエアコンが全開になる場面で渋滞など低負荷走行が続くと、エンジンが掛かっていても充電しなくなることがあり、高電圧バッテリーを使い果たして動けなくなります。現行のFIT3でも同じ現象が発生します。パワーシステムの電源を入れなおすと慌てて充電を始めるのでたぶんハイブリッドシステムのバグです。私はこの現象のせいで2回ほど止まって動かなくなったので、恐ろしくなり買い替えを決断しました。\"\n",
    "print(sentence)\n",
    "\n",
    "setsu = evaluation_structure_automatic_construction(sentence)\n",
    "para = False\n",
    "temp = 0\n",
    "\n",
    "for tag in setsu.result.tag_list(): # 各基本句へのアクセス\n",
    "    para = False\n",
    "    print(\"\\tID:%d, 見出し:%s, 係り受けタイプ:%s, 親基本句ID:%d, 素性:%s\" \\\n",
    "            % (tag.tag_id, \"\".join(mrph.midasi for mrph in tag.mrph_list()), tag.dpndtype, tag.parent_id, tag.fstring)) \n",
    "\n",
    "    if '節-区切' in tag.fstring or '節-機能-原因・理由' in tag.fstring or '節-機能疑-原因・理由' in tag.fstring or 'ID:〜によって' in tag.fstring: #第1段階\n",
    "        if not '連体修飾' in tag.fstring and not '主題表現' in tag.fstring: \n",
    "            print(tag.tag_id)\n",
    "            temp = tag.tag_id\n",
    "            para = False\n",
    "            setsu.danwa_setsu_set(sentence, para)\n",
    "            setsu.setsu_n = tag.tag_id + 1\n",
    "\n",
    "    elif ('<解析連格:外の関係>' in tag.fstring or '<外の関係>' in tag.fstring) and '<連用要素>' in tag.fstring: #第2段階\n",
    "        print(\"Temp\" ,tag.tag_id - temp)\n",
    "        if tag.tag_id - temp > 2: \n",
    "            para = False\n",
    "            setsu.danwa_setsu_set(sentence, para)\n",
    "            setsu.setsu_n = tag.tag_id + 1\n",
    "\n",
    "    elif '並列タイプ:AND' in tag.fstring:\n",
    "        if not '<連用要素>' in tag.fstring: #第3段階\n",
    "            print(\"Temp\" ,tag.tag_id - temp)\n",
    "            if tag.tag_id - temp > 2:\n",
    "                para = True\n",
    "                setsu.danwa_setsu_set(sentence, para)\n",
    "                setsu.setsu_n = tag.tag_id + 1\n",
    "\n",
    "esa_result.append([sentence])\n",
    "esa_result.append([\" ― \".join(setsu.setsu_list)])\n",
    "\n",
    "\n",
    "print([\" ― \".join(setsu.setsu_list)])\n",
    "print(\"\\n\")"
   ]
  },
  {
   "cell_type": "code",
   "execution_count": null,
   "id": "58586e9f-793e-4cfb-8ade-a581573e8e01",
   "metadata": {},
   "outputs": [],
   "source": []
  }
 ],
 "metadata": {
  "kernelspec": {
   "display_name": "Python 3 (ipykernel)",
   "language": "python",
   "name": "python3"
  },
  "language_info": {
   "codemirror_mode": {
    "name": "ipython",
    "version": 3
   },
   "file_extension": ".py",
   "mimetype": "text/x-python",
   "name": "python",
   "nbconvert_exporter": "python",
   "pygments_lexer": "ipython3",
   "version": "3.7.3"
  }
 },
 "nbformat": 4,
 "nbformat_minor": 5
}
